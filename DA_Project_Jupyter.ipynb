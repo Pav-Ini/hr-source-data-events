{
 "cells": [
  {
   "cell_type": "markdown",
   "metadata": {},
   "source": [
    "# Analyzing the hiring success of community events at Kiwi.com"
   ]
  },
  {
   "cell_type": "markdown",
   "metadata": {},
   "source": [
    "## Final project for Czechitas Digital Academy"
   ]
  },
  {
   "cell_type": "markdown",
   "metadata": {},
   "source": [
    "The lines bellow are my first Python lines ever. I've been learning how to code for the past two months. I am aware that there are better, quicker ways how to proceed and analyze data, but hey – I'm learning! Sometimes it is better to learn the hard way; explore the language and make mistakes to realize and understand how the languague works behind the scenes."
   ]
  },
  {
   "cell_type": "markdown",
   "metadata": {},
   "source": [
    "Before I move to the actuall coding, let's see what data I'm analyzing."
   ]
  },
  {
   "cell_type": "markdown",
   "metadata": {},
   "source": [
    "The aim of this project is to analyze two datasets. **CRM system Beamery** and **ATS Jobvite** that are used in Kiwi.com for hiring purposes. Beamery is a tool that Kiwi.com uses for pre-sourcing candindates, for community events applications, and vistors. Jobvite, another HR tool, is used for tracking the applicants, e.g., people who actually applied for an open possition at Kiwi.com. All the data are focused on the engineering department. For GDPR purposes some scripts are not printed because the results contain name or email addresses. **Note that the data are not from the whole company, nor complete.**\n",
    "\n",
    "Please note that Kiwi.com is using Beamery since May 2019. There are several event(s) data missing due to the lack of proper archivation and (mostly) using spreadsheets that are long gone now. Nontheless, the data analysis can provide us with a glimpse of how the events are performing.\n",
    "\n",
    "The tables bellow illustrates *some* of the columns from the datasets and their meaning.\n",
    "\n",
    "___"
   ]
  },
  {
   "cell_type": "markdown",
   "metadata": {},
   "source": [
    "### Beamery\n",
    "| Column Name   | Type       | Meaning|\n",
    "| :-------------|:------------| :----- |\n",
    "| Name          | string     | Name of the candidate |\n",
    "| Primary Email | string     | Email of the candidate |\n",
    "| Source        | string     | Source of the candidate |\n",
    "| Status        | string     | Are their willing to be contacted by HR? Can be *passive* or *lead* |\n",
    "| Event         | string     | What event(s) the candidate went on |\n",
    "| Year          | int        | What year was the event |\n",
    "| Custom        | string     | What month was the event |"
   ]
  },
  {
   "cell_type": "markdown",
   "metadata": {},
   "source": [
    "### Jobvite\n",
    "| Column Name          | Type       | Meaning|\n",
    "| :-------------       |:------------| :----- |\n",
    "| Submitted_Date       | datetime     | Name of the candidate |\n",
    "| Candidate_Full_Name  | string     | Email of the candidate |\n",
    "| Candidate_Email      | string     | Source of the candidate |\n",
    "| Candidate_Source_Type| string     | Eg. (1) Job Board or (2) Events |\n",
    "| Candidate_Source     | string     | Eg. (1) Indeed or (2) Python Weekend Prague June 2019|\n",
    "| New                  | datetime       | Date when the candidate has submitted the application |\n",
    "| Screened             | datetime       | Date when the candidate was screended by a recruiter |\n",
    "| Phone_Screen         | datetime       | Date when the phone screen was done with the candidate |\n",
    "| Practical_Task       | datetime       | Date when the practical task was send to the candidate |\n",
    "| Reference_Check      | datetime       | Date when the refference check was done by a recruiter |\n",
    "| Submitted_to_Hiring_Manager | datetime       | Date when the candidate was submitted to the hiring manager |\n",
    "| 1st_Interview        | datetime       | Date when the candidate was on the 1st interview |\n",
    "| 2nd_Interview        | datetime       | Date when the candidate was on the 2nd interview |\n",
    "| Offer_Sent           | datetime       | Date when the offer was sent to the candidate |\n",
    "| Hired                | datetime       | Date when the candidate was hired |\n",
    "| Offer_Rejected       | datetime       | Date when the candidate rejected the offer |\n",
    "| Rejected             | datetime       | Date when the candidate was rejected by Kiwi.com |\n",
    "| Candidate_withdrew   | datetime       | Date when the candidate has withdrawn their application |\n",
    "| Candidate_Disposition| string         | The reason why the candidate has withdrawn their application or was rejected by Kiwi.com |\n",
    "| Requisition_Id       | int            | ID of the possition the candidate has applied to |\n",
    "| Job_Title            | datetime       | Title of the possition |\n",
    "| Requisition_Category | datetime       | Department the candidate has applied to - *in our case Engineering* |"
   ]
  },
  {
   "cell_type": "markdown",
   "metadata": {},
   "source": [
    "---\n",
    "### Project KPIs\n",
    "+ **What is the direct and indirect candidate conversion ( in %)**\n",
    "\n",
    "   Direct conversion – candidates have a correct Candidate Source Type in Jobvite. This means that it is corresponding with the Beamery dataset. Advanced candidate tracking helps Kiwi.com alocate money better. In addition, we can measure the success rate of events as a hiring source.\n",
    "\n",
    "\n",
    "+ **What is the quality of the event candidates? ( in %)**\n",
    "   \n",
    "   In a discussion we led with the recruitment team we learned that a quality candidate is someone who successfully completes the phone screening. If candidates from events are marked as quality candidates, the workload of the recruitment team decreases and they can source and hire more efficiently.\n",
    "   \n",
    "  \n",
    "+ **How many events precede an actual aplication for an open position?**\n",
    "\n",
    "   What is the number of events an average candidate goes to before appling? If we know there is more than one event in average, we can prepare better and find patterns.\n",
    "   \n",
    "\n",
    "#### What else do we want to know?\n",
    "+ Ratio of *lead* and *passive* candidates"
   ]
  },
  {
   "cell_type": "code",
   "execution_count": 1,
   "metadata": {},
   "outputs": [],
   "source": [
    "import csv\n",
    "from csv import reader\n"
   ]
  },
  {
   "cell_type": "code",
   "execution_count": 2,
   "metadata": {},
   "outputs": [],
   "source": [
    "#opening beamery csv as beamery (data) and beamery_header (header row)\n",
    "\n",
    "opened_file = open(\"/Users/pavlinaschuster/Documents/DA/Projekt/Data/Beamery_CSV.csv\", )\n",
    "readed_file = reader(opened_file, delimiter=';')\n",
    "beamery = list(readed_file)\n",
    "beamery_header = beamery[0]\n",
    "beamery = beamery[1:]"
   ]
  },
  {
   "cell_type": "code",
   "execution_count": 3,
   "metadata": {},
   "outputs": [],
   "source": [
    "#opening jobvite csv as jobvite (data) and jobvite_header (header row)\n",
    "\n",
    "opened_file = open(\"/Users/pavlinaschuster/Documents/DA/Projekt/Data/Jobvite.csv\",)\n",
    "readed_file = reader(opened_file,  delimiter=';')\n",
    "jobvite = list(readed_file)\n",
    "jobvite_header = jobvite[0]\n",
    "jobvite = jobvite[1:]"
   ]
  },
  {
   "cell_type": "code",
   "execution_count": 4,
   "metadata": {},
   "outputs": [],
   "source": [
    "#defining function \"data_explore\" for exploring datasets\n",
    "\n",
    "def data_explore (dataset, start, end, rows_and_columns=False,):\n",
    "    dataset_slice = dataset[start:end]\n",
    "    for row in dataset_slice:\n",
    "        print(row)\n",
    "        print(\"\\n\") #adding new empty line after each row for better readablity\n",
    "\n",
    "    if rows_and_columns:\n",
    "        print(\"Number of rows:\", len(dataset))\n",
    "        print(\"Number of columns:\", len(dataset[0]))"
   ]
  },
  {
   "cell_type": "markdown",
   "metadata": {},
   "source": [
    "#### Exploring Beamery dataset, printing header, firsts 3 rows, number of rows, and columns"
   ]
  },
  {
   "cell_type": "code",
   "execution_count": 5,
   "metadata": {},
   "outputs": [
    {
     "name": "stdout",
     "output_type": "stream",
     "text": [
      "['\\ufeffSource.Name', 'Name', 'Primary Photo', 'Company', 'Title', 'Last Activity', 'Last Contact', 'Last Heard From', 'Primary Email', 'Primary Phone Number', 'Status', 'Days in Status', 'Source', 'Location', 'Date Created', 'Interests', 'Keywords', 'Pools', 'Links', 'Vacancies', 'Vacancy Stages', 'Vacancy Date Added', 'Attachments', 'Degree', 'University', 'Contact Profile URL', 'Do Not Contact', 'Unsubscribed Date', 'All Emails', 'All Phone Numbers', 'Global Tags', 'GDPR Consent', 'GDPR Last Consent Date', 'Assigned To', 'Alumni (Ex Employee)', 'Are you a student?', 'Conference Status Attend', 'Conference Status Speak', 'CT e-mail', 'Do you need accommodation?', 'Employee Email', 'Events OK', 'Extra question', 'Helping Community External Talk', 'Helping Community Internal Talk', 'Helping Community Organize IT Event', 'Helping Community Technical Assignments', 'Helping Community Writing', 'How did you learn about the event?', 'HR OK', 'Internal Employee', 'Internal employee.1', 'Newsletter', 'Referral', 'Referred by', 'Where are you applying to?', 'Willing to Relocate', 'Work Eligibility', 'Index', 'Event', 'Year', 'Custom']\n",
      "\n",
      "\n"
     ]
    }
   ],
   "source": [
    "print(beamery_header)\n",
    "print(\"\\n\")\n",
    "#data_explore(beamery, 0, 3, True) NOT PRINTED - GDPR"
   ]
  },
  {
   "cell_type": "markdown",
   "metadata": {},
   "source": [
    "#### Exploring Jobvite dataset, printing header, first 3 rows, number of rows, and columns\n"
   ]
  },
  {
   "cell_type": "code",
   "execution_count": 6,
   "metadata": {},
   "outputs": [
    {
     "name": "stdout",
     "output_type": "stream",
     "text": [
      "['\\ufeffCandidate_Submitted_Date', 'Candidate_Full_Name', 'Candidate_City', 'Candidate_State', 'Candidate_Email', 'Candidate_Source_Type', 'Candidate_Source', 'New', 'Screened', 'Phone_Screen', 'Practical_Task', 'Reference_Check', 'Submitted_to_Hiring_Manager', '1st_Interview', '2nd_Interview', 'Offer_Sent', 'Hired', 'Offer_Rejected', 'Rejected', 'Candidate_withdrew', 'Candidate_Disposition', 'Requisition_Id', 'Job_Title', 'Requisition_Category']\n",
      "\n",
      "\n"
     ]
    }
   ],
   "source": [
    "print(jobvite_header)\n",
    "print(\"\\n\")\n",
    "# data_explore(jobvite, 0, 3, True) NOT PRINTED - GDPR"
   ]
  },
  {
   "cell_type": "markdown",
   "metadata": {},
   "source": [
    "The engineering department at Kiwi.com received 8216 job applications. In Beamery Dataset we have 1970 rows. \n",
    "\n",
    "Let's create a list of unique emails in Jobvite now. This list will tell us how many unique people applied for an open position at Kiwi.com. This is not an error, since one person can apply for one or more positions."
   ]
  },
  {
   "cell_type": "code",
   "execution_count": 7,
   "metadata": {},
   "outputs": [
    {
     "name": "stdout",
     "output_type": "stream",
     "text": [
      "Number of unique mails in Jobvite: 6534\n",
      "Number of duplicate mails in Jobvite: 1682\n"
     ]
    }
   ],
   "source": [
    "jobvite_unique_mail = []\n",
    "jobvite_duplicate_mail = []\n",
    "\n",
    "for mails in jobvite:\n",
    "    mail = mails[4]\n",
    "    if mail in jobvite_unique_mail:\n",
    "        jobvite_duplicate_mail.append(mail)\n",
    "    else:\n",
    "        jobvite_unique_mail.append(mail)\n",
    "\n",
    "print(\"Number of unique mails in Jobvite:\", len(jobvite_unique_mail))\n",
    "print(\"Number of duplicate mails in Jobvite:\", len(jobvite_duplicate_mail))"
   ]
  },
  {
   "cell_type": "markdown",
   "metadata": {},
   "source": [
    "The Jobvite dataset comprises of 6534 unique job applicants.\n",
    "\n",
    "Let's do the same for Beamery. The number of duplicites will inform us how many people attended more than one event."
   ]
  },
  {
   "cell_type": "code",
   "execution_count": 8,
   "metadata": {},
   "outputs": [
    {
     "name": "stdout",
     "output_type": "stream",
     "text": [
      "Number of unique mails in Beamery: 1821\n",
      "Number of duplicate mails in Beamery: 149\n"
     ]
    }
   ],
   "source": [
    "beamery_unique_mail = []\n",
    "beamery_duplicate_mail = []\n",
    "\n",
    "for mails in beamery:\n",
    "    mail = mails[8]\n",
    "    if mail in beamery_unique_mail:\n",
    "        beamery_duplicate_mail.append(mail)\n",
    "    else:\n",
    "        beamery_unique_mail.append(mail)\n",
    "\n",
    "print(\"Number of unique mails in Beamery:\", len(beamery_unique_mail))\n",
    "print(\"Number of duplicate mails in Beamery:\", len(beamery_duplicate_mail))"
   ]
  },
  {
   "cell_type": "markdown",
   "metadata": {},
   "source": [
    "Now that we know how many emails we have, let's search for empty values in the email column and assign the non-empty rows back to the Jobvite dataset."
   ]
  },
  {
   "cell_type": "code",
   "execution_count": 9,
   "metadata": {},
   "outputs": [
    {
     "name": "stdout",
     "output_type": "stream",
     "text": [
      "Number of empty mails in Jobvite: 18\n",
      "Number of correct mails in Jobvite: 8198\n"
     ]
    }
   ],
   "source": [
    "#missing values in Jobvite mails - creating two lists\n",
    "\n",
    "jv_empty_mails = []\n",
    "jv_correct_mails = []\n",
    "\n",
    "for row in jobvite:\n",
    "    email = row[4]\n",
    "    if not email:\n",
    "        jv_empty_mails.append(row)\n",
    "        # print(row[1]) printing names of ppl who do not have email\n",
    "    else:\n",
    "        jv_correct_mails.append(row)\n",
    "\n",
    "\n",
    "print(\"Number of empty mails in Jobvite:\", len(jv_empty_mails))\n",
    "print(\"Number of correct mails in Jobvite:\", len(jv_correct_mails))\n",
    "\n",
    "#assigning the non-empty rows to jobvite dataset\n",
    "jobvite_correct = jv_correct_mails\n"
   ]
  },
  {
   "cell_type": "markdown",
   "metadata": {},
   "source": [
    "We have succesfully updated the Jobvite list and deleted the empty emails from the dataset. Now, let's do the same with the Beamery list."
   ]
  },
  {
   "cell_type": "code",
   "execution_count": 10,
   "metadata": {},
   "outputs": [
    {
     "name": "stdout",
     "output_type": "stream",
     "text": [
      "Number of empty mails in Beamery: 0\n",
      "Number of correct mails in Beamery: 1970\n",
      "Updated list lenght: 1970\n"
     ]
    }
   ],
   "source": [
    "bm_empty_mails = []\n",
    "bm_correct_mails = []\n",
    "\n",
    "for row in beamery:\n",
    "    email = row[8]\n",
    "    if not email:\n",
    "        bm_empty_mails.append(row)\n",
    "        #print(row[1]) printing names of ppl who do not have email\n",
    "    else:\n",
    "        bm_correct_mails.append(row)  \n",
    "\n",
    "print(\"Number of empty mails in Beamery:\", len(bm_empty_mails))\n",
    "print(\"Number of correct mails in Beamery:\", len(bm_correct_mails))\n",
    "\n",
    "#assigning the non-empty rows to jobvite dataset\n",
    "beamery_correct = bm_correct_mails\n",
    "print(\"Updated list lenght:\",len(beamery))"
   ]
  },
  {
   "cell_type": "markdown",
   "metadata": {},
   "source": [
    "### What is the direct and indirect candidate conversion (in %)\n",
    "\n",
    "Now that we have clean datasets of empty emails, we can have a look at our KPIs. We want to learn what the direct and indirect candidate conversion is (in %). To do this, we have to know how many applicantions in Jobvite have source events. Note that the number of applications does not equal the number of people who applied, as one person can have more than one application. There is a second script that tells us the number of people who applied."
   ]
  },
  {
   "cell_type": "code",
   "execution_count": 11,
   "metadata": {},
   "outputs": [
    {
     "name": "stdout",
     "output_type": "stream",
     "text": [
      "Number of applicantions in Jobvite with source type Events: 87\n",
      "Number of single persons who applied for position with source type Events: 83\n"
     ]
    }
   ],
   "source": [
    "#How many applications there is\n",
    "jobvite_events = []\n",
    "\n",
    "for row in jobvite_correct:\n",
    "    source = row[5]\n",
    "    if source == \"Events\":\n",
    "        jobvite_events.append(row)\n",
    "print(\"Number of applicantions in Jobvite with source type Events:\", len(jobvite_events))\n",
    "\n",
    "\n",
    "\n",
    "#How many people applied for a position with the source type Events\n",
    "\n",
    "jobvite_events_unique = []\n",
    "\n",
    "for row in jobvite_events:\n",
    "    dis_mail = row[4]\n",
    "    if dis_mail not in jobvite_events_unique:\n",
    "        jobvite_events_unique.append(dis_mail)\n",
    "\n",
    "print(\"Number of single persons who applied for position with source type Events:\", len(jobvite_events_unique))\n"
   ]
  },
  {
   "cell_type": "markdown",
   "metadata": {},
   "source": [
    "We can see that the numbers are almost identical; there is not a lot of people from the source type events who would apply for more than one open position. These numbers are based on the source type filled out in Jobvite. However, the data may differ since not all people are properly tracked in the ATS Jobvite. This means that at times the source might not be accurately tagged. The CRM system Beamery is a more relevant source of data. Comparing emails between Beamery and Jobvite will tell us how many applications we actually have from the source type *Events*."
   ]
  },
  {
   "cell_type": "code",
   "execution_count": 12,
   "metadata": {},
   "outputs": [
    {
     "name": "stdout",
     "output_type": "stream",
     "text": [
      "Matched mails between Beamery and Jobvite: 117\n",
      "Direct conversion: 70.94 %\n",
      "Indirect conversion: 29.06 %\n"
     ]
    }
   ],
   "source": [
    "matched_mails = []\n",
    "\n",
    "for row in beamery_correct:\n",
    "    bm_mail = row[8]\n",
    "    for row in jobvite_correct:\n",
    "        jv_mail = row[4]   \n",
    "        if bm_mail == jv_mail and not (bm_mail in matched_mails):\n",
    "            matched_mails.append(bm_mail)\n",
    "\n",
    "print(\"Matched mails between Beamery and Jobvite:\", len(matched_mails))\n",
    "\n",
    "wrong_source = len(matched_mails) - len(jobvite_events_unique)\n",
    "correct_source = len(matched_mails) - wrong_source\n",
    "\n",
    "#Percentage of corectly tagged ppl\n",
    "print(\"Direct conversion:\", round(( (correct_source / len(matched_mails)) * 100), 2),\"%\")\n",
    "\n",
    "#Percentage of wrongly tagged ppl\n",
    "print(\"Indirect conversion:\", round(( (wrong_source / len(matched_mails)) * 100), 2),\"%\")\n",
    "\n",
    "#List of lists people from events\n",
    "events = []\n",
    "events_emails = []\n",
    "\n",
    "for row in jobvite_correct:\n",
    "    mail = row[4]\n",
    "    if not(mail in events_emails) and mail in matched_mails:\n",
    "        events.append(row)\n",
    "        events_emails.append(mail)\n"
   ]
  },
  {
   "cell_type": "markdown",
   "metadata": {},
   "source": [
    "#### The direct conversion is 70,94% \n",
    "#### The indirect conversion is 29.06%\n",
    "\n",
    "This numbers above show us that, in fact, **events are almost up to 30% more successful** source of candidates than it was originally thought.\n",
    "\n",
    "---"
   ]
  },
  {
   "cell_type": "markdown",
   "metadata": {},
   "source": [
    "### How many events precede an actual aplication for an open position?\n",
    "\n",
    "What is the average events attendance; how many times at most has a person visited community events?"
   ]
  },
  {
   "cell_type": "code",
   "execution_count": 13,
   "metadata": {},
   "outputs": [
    {
     "name": "stdout",
     "output_type": "stream",
     "text": [
      "Mean: 1.0\n",
      "Max value: 4\n"
     ]
    }
   ],
   "source": [
    "event_count = {} #empty dictionary, key is mail, value is count of events\n",
    "\n",
    "for row in beamery_correct:\n",
    "    bm_mail = row[8]\n",
    "    if bm_mail not in event_count:\n",
    "        event_count[bm_mail]=1\n",
    "    else:\n",
    "        event_count[bm_mail]+=1\n",
    "\n",
    "summary = 0 \n",
    "for value in event_count.values():\n",
    "    summary += value\n",
    "\n",
    "mean = round((summary / len(event_count)),0)\n",
    "\n",
    "max_value = max(event_count.values())\n",
    "\n",
    "print(\"Mean:\",mean)\n",
    "print(\"Max value:\", max_value)"
   ]
  },
  {
   "cell_type": "markdown",
   "metadata": {},
   "source": [
    "On average, people attend one event before applying for an open position. Maximum of visited events is 4 events per person.\n",
    "\n",
    "---"
   ]
  },
  {
   "cell_type": "markdown",
   "metadata": {},
   "source": [
    "### What is the quality of the event candidates? (in %)\n"
   ]
  },
  {
   "cell_type": "markdown",
   "metadata": {},
   "source": [
    "In the following section, I will measure the quality of the candidates. As mentioned above, the quality candidate is the one who succesfully finished *Phone Screen* and moved to another stage, excluding the following: *Rejected*, *Offer Rejected* and *Candidate withdrew*.\n",
    "\n",
    "For the purposes of the analysis, I have created stages that will be used in the following dictionary. The stages are:\n",
    "\n",
    "| Status in the recruitment workflow | Stage   | Index no   |\n",
    "| :------------------------------|:--------| :--------- |\n",
    "| New                            | Stage 1 | index no 7 |\n",
    "| Screened                       | Stage 2 | index no 8 |\n",
    "| Phone_Screen                   | Stage 3 | index no 9 |\n",
    "| Practical_Task                 | Stage 4 | index no 10|\n",
    "| Reference_Check                | Stage 5 | index no 11|\n",
    "| Submitted_to_Hiring_Manager    | Stage 6 | index no 12|\n",
    "| 1st_Interview                  | Stage 7 | index no 13|\n",
    "| 2nd_Interview                  | Stage 8 | index no 14|\n",
    "| Offer_Sent                     | Stage 9 | index no 15|\n",
    "| Hired                          | Stage 10| index no 16|\n"
   ]
  },
  {
   "cell_type": "code",
   "execution_count": 14,
   "metadata": {},
   "outputs": [],
   "source": [
    "success_dict = {}\n",
    "\n",
    "for row in events:\n",
    "    mail = row[4]\n",
    "    source = row[5]\n",
    "    new = 0 if row[7] is \"\" else 1\n",
    "    screened = 0 if row[8] is \"\" else 1\n",
    "    phone_screen = 0 if row[9] is \"\" else 1\n",
    "    practical_task = 0 if row[10] is \"\" else 1\n",
    "    reference_check = 0 if row[11] is \"\" else 1\n",
    "    hiring_manager = 0 if row[12] is \"\" else 1\n",
    "    first_interview = 0 if row[13] is \"\" else 1\n",
    "    second_interview = 0 if row[14] is \"\" else 1\n",
    "    offer_sent = 0 if row[15] is \"\" else 1\n",
    "    hired = 0 if row[16] is \"\" else 1\n",
    "\n",
    "    stages = [hired, offer_sent, second_interview, first_interview, hiring_manager, reference_check, practical_task, phone_screen, screened, new]\n",
    "    for i in range(len(stages)):\n",
    "        if stages[i] == 1:\n",
    "            success_dict[mail] = len(stages) - i\n",
    "            break\n"
   ]
  },
  {
   "cell_type": "markdown",
   "metadata": {},
   "source": [
    "The previous script created a dictionary with emails as keys and stages as values. Now we need to learn how many of those are quality candidates. Quality candidate is anyone above the Stage 3."
   ]
  },
  {
   "cell_type": "code",
   "execution_count": 15,
   "metadata": {},
   "outputs": [
    {
     "name": "stdout",
     "output_type": "stream",
     "text": [
      "Percentage of quality candidates: 48 %\n"
     ]
    }
   ],
   "source": [
    "def keys_by_values(some_dictionary, list_of_values):\n",
    "    list_of_keys = list()\n",
    "    list_of_items = some_dictionary.items()\n",
    "    for item  in list_of_items:\n",
    "        if item[1] in list_of_values:\n",
    "            list_of_keys.append(item[0])\n",
    "    return  list_of_keys \n",
    "\n",
    "\n",
    "list_of_keys = keys_by_values(success_dict, [4,5,6,7,8,9,10,] )\n",
    "print(\"Percentage of quality candidates:\", round(( len(list_of_keys) / len(success_dict) * 100 )), \"%\" )"
   ]
  },
  {
   "cell_type": "markdown",
   "metadata": {},
   "source": [
    "#### There is 48% success rate of quality candidates from the events source type.\n"
   ]
  },
  {
   "cell_type": "markdown",
   "metadata": {},
   "source": [
    "### Number of lead versus passive event participants\n",
    "\n",
    "The next question we have to ask is how many people who have visited an event have current status *lead* or *passive*. Those two statuses change after recruiters performs a candidate screening. The lead and passive status tell us how many people want to be contacted right now (lead) and how many people want to be contacted in the future (passive). The number of leads stands for the current recruitment workload that needs to be processed. The number of passive candidates represents how many potentital candidates Kiwi.com has for a specific role that is going to be opened in the future."
   ]
  },
  {
   "cell_type": "code",
   "execution_count": 16,
   "metadata": {},
   "outputs": [
    {
     "name": "stdout",
     "output_type": "stream",
     "text": [
      "Number of leads: 283\n",
      "Number of passives: 446\n",
      "Number of other statuses: 1241\n"
     ]
    }
   ],
   "source": [
    "#number of leads and passives\n",
    "\n",
    "lead =[]\n",
    "passive = []\n",
    "other = []\n",
    "\n",
    "for row in beamery_correct:\n",
    "    status = row[10]\n",
    "    if status == \"Lead\":\n",
    "        lead.append(status)\n",
    "    elif status == \"Passive\":\n",
    "        passive.append(status)\n",
    "    else:\n",
    "        other.append(status)\n",
    "\n",
    "print(\"Number of leads:\", len(lead))\n",
    "print(\"Number of passives:\", len(passive))\n",
    "print(\"Number of other statuses:\", len(other))"
   ]
  },
  {
   "cell_type": "markdown",
   "metadata": {},
   "source": [
    "**In total, there is 729 people who are interested in working at Kiwi.com** and have not yet been contacted by a recruiter.\n"
   ]
  },
  {
   "cell_type": "code",
   "execution_count": null,
   "metadata": {},
   "outputs": [],
   "source": []
  }
 ],
 "metadata": {
  "kernelspec": {
   "display_name": "Python 3",
   "language": "python",
   "name": "python3"
  },
  "language_info": {
   "codemirror_mode": {
    "name": "ipython",
    "version": 3
   },
   "file_extension": ".py",
   "mimetype": "text/x-python",
   "name": "python",
   "nbconvert_exporter": "python",
   "pygments_lexer": "ipython3",
   "version": "3.7.3"
  }
 },
 "nbformat": 4,
 "nbformat_minor": 2
}
